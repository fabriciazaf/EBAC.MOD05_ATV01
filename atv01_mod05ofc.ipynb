{
 "cells": [
  {
   "cell_type": "markdown",
   "id": "3fe0a459-8797-4251-82b6-c96016960092",
   "metadata": {},
   "source": [
    "# Módulo 5 Tarefa 1\n",
    "## Base de nascidos vivos do DataSUS\n",
    "O DataSUS disponibiliza diversos arquivos de dados com relação a seus segurados, conforme a [lei da transparência de informações públicas](https://www.sisgov.com/transparencia-acesso-informacao/#:~:text=A%20Lei%20da%20Transpar%C3%AAncia%20(LC,em%20um%20site%20na%20internet.). \n",
    "\n",
    "Essas informações podem ser obtidas pela internet [aqui](http://www2.datasus.gov.br/DATASUS/index.php?area=0901&item=1). Como o processo de obtenção desses arquivos foge um pouco do nosso escopo, deixamos o arquivo SINASC_RO_2019.csv` já como vai ser encontrado no DataSUS. O dicionário de dados está no arquivo `estrutura_sinasc_para_CD.pdf` (o nome do arquivo tal qual no portal do DataSUS).\n",
    "\n",
    "### Nosso objetivo\n",
    "Queremos deixar uma base organizada para podermos estudar a relação entre partos com risco para o bebê e algumas condições como tempo de parto, consultas de pré-natal etc.\n",
    "\n",
    "#### Preparação da base\n",
    "1. Carregue a base 'SINASC_RO_2019.csv'. Conte o número de registros e o número de registros não duplicados da base. Dica: você aprendeu um método que remove duplicados, encadeie este método com um outro método que conta o número de linhas. **Há linhas duplicadas?**  \n",
    "\n",
    "2. Conte o número de valores *missing* por variável.  \n",
    "\n",
    "3. Ok, no item anterior você deve ter achado pouco prático ler a informação de tantas variáveis, muitas delas nem devem ser interesantes. Então crie uma seleção dessa base somente com as colunas que interessam. São elas:\n",
    "` \n",
    "['LOCNASC', 'IDADEMAE', 'ESTCIVMAE', 'ESCMAE', 'QTDFILVIVO', \n",
    "    'GESTACAO', 'GRAVIDEZ', 'CONSULTAS', 'APGAR5'] \n",
    "`\n",
    "Refaça a contagem de valores *missings*.  \n",
    "\n",
    "4. Apgar é uma *nota* que o pediatra dá ao bebê quando nasce de acordo com algumas características associadas principalmente à respiração. Apgar 1 e Apgar 5 são as notas 1 e 5 minutos do nascimento. Apgar5 será a nossa variável de interesse principal. Então remova todos os registros com Apgar5 não preenchido. Para esta seleção, conte novamente o número de linhas e o número de *missings*.  \n",
    "\n",
    "5. observe que as variáveis `['ESTCIVMAE', 'CONSULTAS']` possuem o código `9`, que significa *ignorado*. Vamos assumir que o não preenchido é o mesmo que o código `9`.<br>\n",
    "6. Substitua os valores faltantes da quantitativa (`QTDFILVIVO`) por zero.  \n",
    "7. Das restantes, decida que valore te parece mais adequado (um 'não preenchido' ou um valor 'mais provável' como no item anterior) e preencha. Justifique. Lembre-se de que tratamento de dados é trabalho do cientista, e que estamos tomando decisões a todo o momento - não há necessariamente certo e errado aqui.  \n",
    "8. O Apgar possui uma classificação indicando se o bebê passou por asfixia:\n",
    "- Entre 8 e 10 está em uma faixa 'normal'. \n",
    "- Entre 6 e 7, significa que o recém-nascido passou por 'asfixia leve'. \n",
    "- Entre 4 e 5 significa 'asfixia moderada'.\n",
    "- Entre 0 e 3 significa 'asfixia severa'.  \n",
    "\n",
    "Crie uma categorização dessa variável com essa codificação e calcule as frequências dessa categorização.  \n",
    "<br>\n",
    "9. Renomeie as variáveis para que fiquem no *snake case*, ou seja, em letras minúsculas, com um *underscore* entre as palávras. Dica: repare que se você não quiser criar um *dataframe* novo, você vai precisar usar a opção `inplace = True`."
   ]
  },
  {
   "cell_type": "code",
   "execution_count": 1,
   "id": "f88dc24b-4525-42cc-be42-63b550710927",
   "metadata": {},
   "outputs": [
    {
     "name": "stdout",
     "output_type": "stream",
     "text": [
      "Total de registros: 27028\n",
      "Total de registros únicos: 27028\n",
      "Há registros duplicados? Não\n"
     ]
    }
   ],
   "source": [
    "import pandas as pd\n",
    "\n",
    "# Carregar a base\n",
    "sinasc = pd.read_csv('SINASC_RO_2019.csv')\n",
    "\n",
    "# Número de registros totais\n",
    "total_registros = sinasc.shape[0]\n",
    "\n",
    "# Número de registros únicos (não duplicados)\n",
    "total_registros_unicos = sinasc.drop_duplicates().shape[0]\n",
    "\n",
    "# Verificar se há duplicados\n",
    "ha_duplicados = total_registros != total_registros_unicos\n",
    "\n",
    "print(f\"Total de registros: {total_registros}\")\n",
    "print(f\"Total de registros únicos: {total_registros_unicos}\")\n",
    "print(f\"Há registros duplicados? {'Sim' if ha_duplicados else 'Não'}\")\n"
   ]
  },
  {
   "cell_type": "code",
   "execution_count": 3,
   "id": "51e075d8-43b0-4395-8c07-da546a9f67b2",
   "metadata": {},
   "outputs": [
    {
     "name": "stdout",
     "output_type": "stream",
     "text": [
      "Valores missing por variável:\n",
      "ORIGEM          0\n",
      "CODESTAB      115\n",
      "CODMUNNASC      0\n",
      "LOCNASC         0\n",
      "IDADEMAE        0\n",
      "             ... \n",
      "munResUf        0\n",
      "munResLat       1\n",
      "munResLon       1\n",
      "munResAlt       1\n",
      "munResArea      1\n",
      "Length: 69, dtype: int64\n"
     ]
    }
   ],
   "source": [
    "# Contar valores missing por coluna\n",
    "missing_values = sinasc.isnull().sum()\n",
    "\n",
    "print(\"Valores missing por variável:\")\n",
    "print(missing_values)\n"
   ]
  },
  {
   "cell_type": "code",
   "execution_count": 5,
   "id": "e5d982bc-288d-4085-840b-9c2b5593b75b",
   "metadata": {},
   "outputs": [
    {
     "name": "stdout",
     "output_type": "stream",
     "text": [
      "Valores missing nas colunas de interesse:\n",
      "LOCNASC          0\n",
      "IDADEMAE         0\n",
      "ESTCIVMAE      317\n",
      "ESCMAE         312\n",
      "QTDFILVIVO    1573\n",
      "GESTACAO      1232\n",
      "GRAVIDEZ        79\n",
      "CONSULTAS        0\n",
      "APGAR5         103\n",
      "dtype: int64\n"
     ]
    }
   ],
   "source": [
    "# Selecionar as colunas de interesse\n",
    "colunas_interesse = ['LOCNASC', 'IDADEMAE', 'ESTCIVMAE', 'ESCMAE', \n",
    "                     'QTDFILVIVO', 'GESTACAO', 'GRAVIDEZ', 'CONSULTAS', 'APGAR5']\n",
    "sinasc_selecionada = sinasc[colunas_interesse]\n",
    "\n",
    "# Contar valores missing nas colunas de interesse\n",
    "missing_values_interesse = sinasc_selecionada.isnull().sum()\n",
    "\n",
    "print(\"Valores missing nas colunas de interesse:\")\n",
    "print(missing_values_interesse)\n"
   ]
  },
  {
   "cell_type": "code",
   "execution_count": 7,
   "id": "c20e8749-de72-44a5-8825-23c938adcfc4",
   "metadata": {},
   "outputs": [
    {
     "name": "stdout",
     "output_type": "stream",
     "text": [
      "Total de registros após remoção de APGAR5 não preenchido: 26925\n",
      "Valores missing por variável após remoção de APGAR5 não preenchido:\n",
      "LOCNASC          0\n",
      "IDADEMAE         0\n",
      "ESTCIVMAE      315\n",
      "ESCMAE         310\n",
      "QTDFILVIVO    1566\n",
      "GESTACAO      1216\n",
      "GRAVIDEZ        76\n",
      "CONSULTAS        0\n",
      "APGAR5           0\n",
      "dtype: int64\n"
     ]
    }
   ],
   "source": [
    "# Remover registros com APGAR5 não preenchido\n",
    "sinasc_selecionada = sinasc_selecionada.dropna(subset=['APGAR5'])\n",
    "\n",
    "# Recontar número de linhas e valores missing\n",
    "linhas_restantes = sinasc_selecionada.shape[0]\n",
    "missing_values_pos_remocao = sinasc_selecionada.isnull().sum()\n",
    "\n",
    "print(f\"Total de registros após remoção de APGAR5 não preenchido: {linhas_restantes}\")\n",
    "print(\"Valores missing por variável após remoção de APGAR5 não preenchido:\")\n",
    "print(missing_values_pos_remocao)\n"
   ]
  },
  {
   "cell_type": "code",
   "execution_count": 13,
   "id": "016e5907-6234-40da-9840-7ff73bddea83",
   "metadata": {},
   "outputs": [],
   "source": [
    "# Substituir valores faltantes ou 'não preenchido' por 9\n",
    "sinasc_selecionada['ESTCIVMAE'] = sinasc_selecionada['ESTCIVMAE'].fillna(9)\n",
    "sinasc_selecionada['CONSULTAS'] = sinasc_selecionada['CONSULTAS'].fillna(9)\n"
   ]
  },
  {
   "cell_type": "code",
   "execution_count": 11,
   "id": "448bc95c-b89b-4044-96ed-38bccaf22221",
   "metadata": {},
   "outputs": [],
   "source": [
    "# Substituir valores faltantes em QTDFILVIVO por zero\n",
    "sinasc_selecionada['QTDFILVIVO'] = sinasc_selecionada['QTDFILVIVO'].fillna(0)\n"
   ]
  },
  {
   "cell_type": "markdown",
   "id": "8c0045e1-b5f6-48dc-9c4d-4ca43ea212d6",
   "metadata": {},
   "source": [
    "1ª - as variáveis quantitativas, QTDFILVIVO e IDADEMAE, foram tratados os valores como zero e média, consecutivamente. Pois seria o mis adequado para classificar os filhos e não há porque entender que a mãe não tenha idade, podendo gerar uma discrepância grande na hora de analisar essas informações.\n",
    "\n",
    "2ª - Os valores qualitativos foram tratados como não informado, dar entender que é a escolha mais adequada. \n",
    "SCMAE: Valores ausentes foram preenchidos com \"Não informado\", pois não seria adequado estimar.\n",
    "\n",
    "GESTACAO: evita suposições sobre o tempo de gestação, que pode variar significativamente.\n",
    "\n",
    "GRAVIDEZ: classifica se a gravidez foi única ou múltipla. Valores ausentes foram preenchidos com \"Não informado\" para manter consistência sem introduzir vieses."
   ]
  },
  {
   "cell_type": "code",
   "execution_count": 15,
   "id": "b996cc1f-fe6c-4b34-baff-bc459ecc5210",
   "metadata": {},
   "outputs": [],
   "source": [
    "# Substituir valores faltantes nas categóricas por \"Não informado\"\n",
    "sinasc_selecionada['LOCNASC'] = sinasc_selecionada['LOCNASC'].fillna('Não informado')\n",
    "sinasc_selecionada['ESCMAE'] = sinasc_selecionada['ESCMAE'].fillna('Não informado')\n",
    "sinasc_selecionada['GESTACAO'] = sinasc_selecionada['GESTACAO'].fillna('Não informado')\n",
    "sinasc_selecionada['GRAVIDEZ'] = sinasc_selecionada['GRAVIDEZ'].fillna('Não informado')\n",
    "\n",
    "# Substituir valores faltantes em IDADEMAE pela média\n",
    "media_idademae = sinasc_selecionada['IDADEMAE'].mean()\n",
    "sinasc_selecionada['IDADEMAE'] = sinasc_selecionada['IDADEMAE'].fillna(media_idademae)\n"
   ]
  },
  {
   "cell_type": "code",
   "execution_count": 17,
   "id": "c23e5a28-1db9-4955-87fe-0b853fdd5e9a",
   "metadata": {},
   "outputs": [
    {
     "name": "stdout",
     "output_type": "stream",
     "text": [
      "Valores missing finais por variável:\n",
      "LOCNASC       0\n",
      "IDADEMAE      0\n",
      "ESTCIVMAE     0\n",
      "ESCMAE        0\n",
      "QTDFILVIVO    0\n",
      "GESTACAO      0\n",
      "GRAVIDEZ      0\n",
      "CONSULTAS     0\n",
      "APGAR5        0\n",
      "dtype: int64\n"
     ]
    }
   ],
   "source": [
    "# Verificar se ainda há valores missing\n",
    "missing_final = sinasc_selecionada.isnull().sum()\n",
    "\n",
    "print(\"Valores missing finais por variável:\")\n",
    "print(missing_final)\n"
   ]
  },
  {
   "cell_type": "code",
   "execution_count": 19,
   "id": "c72b5384-0174-49e0-85fd-906457714eb0",
   "metadata": {},
   "outputs": [
    {
     "name": "stdout",
     "output_type": "stream",
     "text": [
      "Frequências da categorização de APGAR5:\n",
      "apgar5_categoria\n",
      "normal              26463\n",
      "asfixia leve          320\n",
      "asfixia severa         74\n",
      "asfixia moderada       68\n",
      "Name: count, dtype: int64\n"
     ]
    }
   ],
   "source": [
    "# Criar a categorização para APGAR5\n",
    "sinasc_selecionada['apgar5_categoria'] = pd.cut(\n",
    "    sinasc_selecionada['APGAR5'],\n",
    "    bins=[-1, 3, 5, 7, 10],  # Intervalos definidos\n",
    "    labels=['asfixia severa', 'asfixia moderada', 'asfixia leve', 'normal'],  # Categorias\n",
    "    right=True  # Intervalo fechado à direita\n",
    ")\n",
    "\n",
    "# Calcular as frequências da categorização\n",
    "frequencias_apgar5 = sinasc_selecionada['apgar5_categoria'].value_counts()\n",
    "\n",
    "print(\"Frequências da categorização de APGAR5:\")\n",
    "print(frequencias_apgar5)\n"
   ]
  },
  {
   "cell_type": "code",
   "execution_count": 23,
   "id": "a075296a-4748-4606-8433-77a7f67363d9",
   "metadata": {},
   "outputs": [
    {
     "name": "stdout",
     "output_type": "stream",
     "text": [
      "Colunas após renomeação:\n",
      "Index(['loc_nasc', 'idade_mae', 'est_civ_mae', 'esc_mae', 'qtd_fil_vivo',\n",
      "       'gestacao', 'gravidez', 'consultas', 'apgar5', 'apgar5_categoria'],\n",
      "      dtype='object')\n"
     ]
    }
   ],
   "source": [
    "# renomeando todas as colunas, aplicando a transformação para o formato snake_case.\n",
    "sinasc_selecionada.rename(\n",
    "    columns={\n",
    "        'LOCNASC': 'loc_nasc',\n",
    "        'IDADEMAE': 'idade_mae',\n",
    "        'ESTCIVMAE': 'est_civ_mae',\n",
    "        'ESCMAE': 'esc_mae',\n",
    "        'QTDFILVIVO': 'qtd_fil_vivo',\n",
    "        'GESTACAO': 'gestacao',\n",
    "        'GRAVIDEZ': 'gravidez',\n",
    "        'CONSULTAS': 'consultas',\n",
    "        'APGAR5': 'apgar5',\n",
    "        'apgar5_categoria': 'apgar5_categoria'\n",
    "    },\n",
    "    inplace=True\n",
    ")\n",
    "\n",
    "print(\"Colunas após renomeação:\")\n",
    "print(sinasc_selecionada.columns)\n"
   ]
  },
  {
   "cell_type": "code",
   "execution_count": null,
   "id": "bf919aa9-a08f-444a-b4b3-fdfc58ab32b6",
   "metadata": {},
   "outputs": [],
   "source": []
  }
 ],
 "metadata": {
  "kernelspec": {
   "display_name": "Python 3 (ipykernel)",
   "language": "python",
   "name": "python3"
  },
  "language_info": {
   "codemirror_mode": {
    "name": "ipython",
    "version": 3
   },
   "file_extension": ".py",
   "mimetype": "text/x-python",
   "name": "python",
   "nbconvert_exporter": "python",
   "pygments_lexer": "ipython3",
   "version": "3.12.4"
  }
 },
 "nbformat": 4,
 "nbformat_minor": 5
}
